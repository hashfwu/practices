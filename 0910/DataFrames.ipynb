{
 "cells": [
  {
   "cell_type": "markdown",
   "metadata": {},
   "source": [
    "# Pandas DataFrame\n",
    "La estructura de datos también contiene ejes etiquetados (filas y columnas). Las operaciones aritméticas se alinean en las etiquetas de filas y columnas. Puede considerarse como un contenedor tipo dictado para objetos Serie. La estructura de datos primaria de pandas."
   ]
  },
  {
   "cell_type": "code",
   "execution_count": 128,
   "metadata": {},
   "outputs": [
    {
     "name": "stdout",
     "output_type": "stream",
     "text": [
      "    edad sexo  altura  peso            observacion\n",
      "0   25.0    M   166.0  60.0                Ninguna\n",
      "1   19.0  NaN   170.0   NaN                   Nada\n",
      "2   22.0    F   165.0  70.0               Muy Alta\n",
      "3    NaN    M   180.0  60.0             Quien sera\n",
      "4   21.0    M   145.0  78.0             Ninguna   \n",
      "5   24.0    F     NaN  60.0                   Nada\n",
      "6   20.0    F   152.0  64.0              Ninguna  \n",
      "7   24.0    F   154.0  59.0  Centro de Estudiantes\n",
      "8   26.0    M   158.0  78.0              Lectura  \n",
      "9   23.0    M   160.0  79.0              Como poco\n",
      "10  21.0    F   165.0  45.0                    NaN\n",
      "<class 'pandas.core.frame.DataFrame'>\n"
     ]
    }
   ],
   "source": [
    "import pandas as pd\n",
    "\n",
    "df = pd.read_csv('dataset2.csv')\n",
    "print(df)\n",
    "print(type(df))"
   ]
  },
  {
   "cell_type": "code",
   "execution_count": 129,
   "metadata": {},
   "outputs": [
    {
     "name": "stdout",
     "output_type": "stream",
     "text": [
      "0     25.0\n",
      "1     19.0\n",
      "2     22.0\n",
      "3      NaN\n",
      "4     21.0\n",
      "5     24.0\n",
      "6     20.0\n",
      "7     24.0\n",
      "8     26.0\n",
      "9     23.0\n",
      "10    21.0\n",
      "Name: edad, dtype: float64\n"
     ]
    }
   ],
   "source": [
    "print(df[\"edad\"]) "
   ]
  },
  {
   "cell_type": "code",
   "execution_count": 130,
   "metadata": {},
   "outputs": [
    {
     "name": "stdout",
     "output_type": "stream",
     "text": [
      "edad                 21.0\n",
      "sexo                    M\n",
      "altura              145.0\n",
      "peso                 78.0\n",
      "observacion    Ninguna   \n",
      "Name: 4, dtype: object\n",
      "21.0\n",
      "M\n"
     ]
    },
    {
     "name": "stderr",
     "output_type": "stream",
     "text": [
      "/tmp/ipykernel_34682/2967395413.py:2: FutureWarning: Series.__getitem__ treating keys as positions is deprecated. In a future version, integer keys will always be treated as labels (consistent with DataFrame behavior). To access a value by position, use `ser.iloc[pos]`\n",
      "  print(df.loc[4][0])\n"
     ]
    }
   ],
   "source": [
    "print(df.loc[4]) \n",
    "print(df.loc[4][0]) \n",
    "print(df.loc[4][\"sexo\"]) "
   ]
  },
  {
   "cell_type": "code",
   "execution_count": 131,
   "metadata": {},
   "outputs": [
    {
     "name": "stdout",
     "output_type": "stream",
     "text": [
      "edad                 21.0\n",
      "sexo                    M\n",
      "altura              145.0\n",
      "peso                 78.0\n",
      "observacion    Ninguna   \n",
      "Name: 4, dtype: object\n",
      "21.0\n",
      "M\n"
     ]
    },
    {
     "name": "stderr",
     "output_type": "stream",
     "text": [
      "/tmp/ipykernel_34682/17272575.py:2: FutureWarning: Series.__getitem__ treating keys as positions is deprecated. In a future version, integer keys will always be treated as labels (consistent with DataFrame behavior). To access a value by position, use `ser.iloc[pos]`\n",
      "  print(df.iloc[4][0])\n"
     ]
    }
   ],
   "source": [
    "print(df.iloc[4]) \n",
    "print(df.iloc[4][0]) \n",
    "print(df.iloc[4][\"sexo\"]) "
   ]
  },
  {
   "cell_type": "code",
   "execution_count": 132,
   "metadata": {},
   "outputs": [
    {
     "name": "stdout",
     "output_type": "stream",
     "text": [
      "0    25.0\n",
      "1    19.0\n",
      "Name: edad, dtype: float64\n",
      "    edad sexo  altura  peso            observacion  posicion\n",
      "0   25.0    M   166.0  60.0                Ninguna         0\n",
      "1   19.0  NaN   170.0   NaN                   Nada         1\n",
      "2   22.0    F   165.0  70.0               Muy Alta         2\n",
      "3    NaN    M   180.0  60.0             Quien sera         3\n",
      "4   21.0    M   145.0  78.0             Ninguna            4\n",
      "5   24.0    F     NaN  60.0                   Nada         5\n",
      "6   20.0    F   152.0  64.0              Ninguna           6\n",
      "7   24.0    F   154.0  59.0  Centro de Estudiantes         7\n",
      "8   26.0    M   158.0  78.0              Lectura           8\n",
      "9   23.0    M   160.0  79.0              Como poco         9\n",
      "10  21.0    F   165.0  45.0                    NaN        10\n"
     ]
    }
   ],
   "source": [
    "print(df.iloc[:2][\"edad\"])\n",
    "df[\"posicion\"] = df.index \n",
    "print(df)"
   ]
  },
  {
   "cell_type": "code",
   "execution_count": 133,
   "metadata": {},
   "outputs": [
    {
     "name": "stdout",
     "output_type": "stream",
     "text": [
      "    edad sexo  altura  peso            observacion  posicion\n",
      "0   25.0    M   166.0  60.0                Ninguna         0\n",
      "1   19.0  NaN   170.0   NaN                   Nada         1\n",
      "2   22.0    F   165.0  70.0               Muy Alta         2\n",
      "3    NaN    M   180.0  60.0             Quien sera         3\n",
      "4   21.0    M   145.0  78.0             Ninguna            4\n",
      "5   24.0    F     NaN  60.0                   Nada         5\n",
      "6   20.0    F   152.0  64.0              Ninguna           6\n",
      "7   24.0    F   154.0  59.0  Centro de Estudiantes         7\n",
      "8   26.0    M   158.0  78.0              Lectura           8\n",
      "9   23.0    M   160.0  79.0              Como poco         9\n",
      "10  21.0    F   165.0  45.0                    NaN        10\n",
      "    edad sexo  altura  peso            observacion  posicion\n",
      "0   25.0    M   166.0  60.0                Ninguna         0\n",
      "1   19.0  NaN   170.0   NaN                   Nada         1\n",
      "2   22.0    F   165.0  70.0               Muy Alta         2\n",
      "3    NaN    M   180.0  60.0             Quien sera         3\n",
      "4   21.0    M   145.0  78.0                Ninguna         4\n",
      "5   24.0    F     NaN  60.0                   Nada         5\n",
      "6   20.0    F   152.0  64.0                Ninguna         6\n",
      "7   24.0    F   154.0  59.0  Centro de Estudiantes         7\n",
      "8   26.0    M   158.0  78.0                Lectura         8\n",
      "9   23.0    M   160.0  79.0              Como poco         9\n",
      "10  21.0    F   165.0  45.0                    NaN        10\n"
     ]
    },
    {
     "name": "stderr",
     "output_type": "stream",
     "text": [
      "/tmp/ipykernel_34682/1196803636.py:7: FutureWarning: DataFrame.applymap has been deprecated. Use DataFrame.map instead.\n",
      "  df2 = df.applymap(sin_espacios)\n"
     ]
    }
   ],
   "source": [
    "def sin_espacios(valor): \n",
    "  if type(valor)==str: \n",
    "    return valor.lstrip().rstrip() \n",
    "  else: \n",
    "    return valor \n",
    " \n",
    "df2 = df.applymap(sin_espacios) \n",
    "print(df) \n",
    "print(df2)"
   ]
  },
  {
   "cell_type": "markdown",
   "metadata": {},
   "source": [
    "Podemos hacer un array map"
   ]
  },
  {
   "cell_type": "code",
   "execution_count": 134,
   "metadata": {},
   "outputs": [
    {
     "name": "stdout",
     "output_type": "stream",
     "text": [
      "    edad sexo  altura  peso            observacion  posicion\n",
      "0   25.0    M   166.0  60.0                Ninguna         0\n",
      "1   19.0  NaN   170.0   NaN                   Nada         1\n",
      "2   22.0    F   165.0  70.0               Muy Alta         2\n",
      "3    NaN    M   180.0  60.0             Quien sera         3\n",
      "4   21.0    M   145.0  78.0                Ninguna         4\n",
      "5   24.0    F     NaN  60.0                   Nada         5\n",
      "6   20.0    F   152.0  64.0                Ninguna         6\n",
      "7   24.0    F   154.0  59.0  Centro de Estudiantes         7\n",
      "8   26.0    M   158.0  78.0                Lectura         8\n",
      "9   23.0    M   160.0  79.0              Como poco         9\n",
      "10  21.0    F   165.0  45.0                    NaN        10\n"
     ]
    },
    {
     "name": "stderr",
     "output_type": "stream",
     "text": [
      "/tmp/ipykernel_34682/1120502747.py:7: FutureWarning: DataFrame.applymap has been deprecated. Use DataFrame.map instead.\n",
      "  df3=df2.applymap(cambia_nan)\n"
     ]
    }
   ],
   "source": [
    "import numpy as np\n",
    "def cambia_nan(valor):\n",
    "    if valor=='nan':\n",
    "        return np.nan\n",
    "    else:\n",
    "        return valor\n",
    "df3=df2.applymap(cambia_nan)\n",
    "print(df3)"
   ]
  },
  {
   "cell_type": "code",
   "execution_count": 135,
   "metadata": {},
   "outputs": [
    {
     "name": "stdout",
     "output_type": "stream",
     "text": [
      "    edad sexo  altura  peso            observacion  posicion\n",
      "0   25.0    M   166.0  60.0                Ninguna         0\n",
      "1   19.0  NaN   170.0   NaN                   Nada         1\n",
      "2   22.0    F   165.0  70.0               Muy Alta         2\n",
      "3    NaN    M   180.0  60.0             Quien sera         3\n",
      "4   21.0    M   145.0  78.0                Ninguna         4\n",
      "5   24.0    F     NaN  60.0                   Nada         5\n",
      "6   20.0    F   152.0  64.0                Ninguna         6\n",
      "7   24.0    F   154.0  59.0  Centro de Estudiantes         7\n",
      "8   26.0    M   158.0  78.0                Lectura         8\n",
      "9   23.0    M   160.0  79.0              Como poco         9\n",
      "10  21.0    F   165.0  45.0                    NaN        10\n"
     ]
    }
   ],
   "source": [
    "df3[\"sexo\"].str.lower()\n",
    "print(df3)"
   ]
  },
  {
   "cell_type": "markdown",
   "metadata": {},
   "source": [
    "Podemos elminar los `NaN` con `dropna`"
   ]
  },
  {
   "cell_type": "code",
   "execution_count": 136,
   "metadata": {},
   "outputs": [
    {
     "name": "stdout",
     "output_type": "stream",
     "text": [
      "   edad sexo  altura  peso            observacion  posicion\n",
      "0  25.0    M   166.0  60.0                Ninguna         0\n",
      "2  22.0    F   165.0  70.0               Muy Alta         2\n",
      "4  21.0    M   145.0  78.0                Ninguna         4\n",
      "6  20.0    F   152.0  64.0                Ninguna         6\n",
      "7  24.0    F   154.0  59.0  Centro de Estudiantes         7\n",
      "8  26.0    M   158.0  78.0                Lectura         8\n",
      "9  23.0    M   160.0  79.0              Como poco         9\n"
     ]
    }
   ],
   "source": [
    "df3.dropna(inplace=True)\n",
    "print(df3)"
   ]
  },
  {
   "cell_type": "markdown",
   "metadata": {},
   "source": [
    "Ahora haremos algo de estadistica. Primero generaremos un número aleatorio con ayuda de `numpy`"
   ]
  },
  {
   "cell_type": "code",
   "execution_count": 137,
   "metadata": {},
   "outputs": [
    {
     "name": "stdout",
     "output_type": "stream",
     "text": [
      "0.6504768582137396\n"
     ]
    }
   ],
   "source": [
    "from scipy import stats\n",
    "\n",
    "numero = np.random.random()\n",
    "print(numero)"
   ]
  },
  {
   "cell_type": "markdown",
   "metadata": {},
   "source": [
    "Ahora podemos generar un número aleatorio con una semilla. Esto se hace para que el número en efecto sea aleatorio, pero que podamos generar el mismo cada vez que corramos el programa."
   ]
  },
  {
   "cell_type": "code",
   "execution_count": 138,
   "metadata": {},
   "outputs": [],
   "source": [
    "np.random.seed(3)"
   ]
  },
  {
   "cell_type": "markdown",
   "metadata": {},
   "source": [
    "Apartir de esto podemos generar el mismo valor randómico."
   ]
  },
  {
   "cell_type": "code",
   "execution_count": 139,
   "metadata": {},
   "outputs": [
    {
     "name": "stdout",
     "output_type": "stream",
     "text": [
      "0.5507979025745755\n",
      "-1.0294714740051425\n"
     ]
    }
   ],
   "source": [
    "print(np.random.random())\n",
    "print(np.random.normal())"
   ]
  },
  {
   "cell_type": "markdown",
   "metadata": {},
   "source": [
    "Académicamente es correcto, pero industrialmente no lo es, ya que podría funcionar en una máquina, y no en todas"
   ]
  },
  {
   "cell_type": "markdown",
   "metadata": {},
   "source": [
    "Ahora podemos irnos a ver las distribuciones estadísticas, como la distribución normal, que tiene mucho que ver con la naturaleza de las cosas. Podemos ver la distribución normal con ayuda de la libreria de `stats` de Python"
   ]
  },
  {
   "cell_type": "code",
   "execution_count": 140,
   "metadata": {},
   "outputs": [
    {
     "name": "stdout",
     "output_type": "stream",
     "text": [
      "<scipy.stats._distn_infrastructure.rv_continuous_frozen object at 0x7f8925aa5a60>\n"
     ]
    }
   ],
   "source": [
    "distribucion = stats.norm(loc=0, scale=1)\n",
    "print(distribucion)"
   ]
  },
  {
   "cell_type": "markdown",
   "metadata": {},
   "source": [
    "Para verlo mejor necesitamos de una muestra"
   ]
  },
  {
   "cell_type": "code",
   "execution_count": 141,
   "metadata": {},
   "outputs": [
    {
     "name": "stdout",
     "output_type": "stream",
     "text": [
      "[ 1.0248068   0.98055387  0.02701904 -0.46004212 -0.05792084  2.07757414\n",
      " -0.60131248  0.93923639 -1.18040862 -0.34733018  0.06629873 -1.62758528\n",
      "  0.39788586 -1.62915743 -0.63893553]\n"
     ]
    }
   ],
   "source": [
    "muestra = distribucion.rvs(size=15)\n",
    "print(muestra)"
   ]
  },
  {
   "cell_type": "markdown",
   "metadata": {},
   "source": [
    "Podriamos tener escalas exponenciasles o uniformes. Para eso hacemos:"
   ]
  },
  {
   "cell_type": "code",
   "execution_count": 142,
   "metadata": {},
   "outputs": [
    {
     "name": "stdout",
     "output_type": "stream",
     "text": [
      "[-0.56080987  1.81898259  0.15657257 -1.20327619 -0.7040594   1.01922044\n",
      " -0.53463016 -1.32688896  0.66805241  0.28587781 -0.37067527  1.05045112\n",
      "  0.2613125  -0.69459727 -2.02469194]\n",
      "[ 1.69190631 -0.94910651 -2.7915311  -3.46556892 -0.46644846 -0.73697333\n",
      " -3.6263322   0.50907108  2.12789807 -1.97922436 -1.93010217 -2.84340545\n",
      " -0.43799175  0.1346774  -2.86550529]\n",
      "[-0.10417383 -2.61963406  4.17114345 -2.76802994  2.52215721  3.25670234\n",
      " -2.95775503  4.42681859 -3.62421287  3.80487818 -5.46351355  2.28316095\n",
      " -2.09266145 -0.26180254  2.23623971]\n"
     ]
    }
   ],
   "source": [
    "distribucion = stats.norm(loc=0, scale=1) \n",
    "muestra = distribucion.rvs(size=15) \n",
    "print(muestra) \n",
    " \n",
    "distribucion = stats.norm(loc=0, scale=2) \n",
    "muestra = distribucion.rvs(size=15) \n",
    "print(muestra) \n",
    " \n",
    "distribucion = stats.norm(loc=0, scale=3) \n",
    "muestra = distribucion.rvs(size=15) \n",
    "print(muestra)"
   ]
  },
  {
   "cell_type": "markdown",
   "metadata": {},
   "source": [
    "Para ver mejor lo que pasa podríamos usar la librería de `matplotlib`"
   ]
  },
  {
   "cell_type": "code",
   "execution_count": 145,
   "metadata": {},
   "outputs": [
    {
     "data": {
      "text/plain": [
       "<function matplotlib.pyplot.show(close=None, block=None)>"
      ]
     },
     "execution_count": 145,
     "metadata": {},
     "output_type": "execute_result"
    },
    {
     "data": {
      "image/png": "[encoded data removed]",
      "text/plain": [
       "<Figure size 640x480 with 1 Axes>"
      ]
     },
     "metadata": {},
     "output_type": "display_data"
    }
   ],
   "source": [
    "import matplotlib.pyplot as plt\n",
    "fig, ax, = plt.subplots()\n",
    "ax.plot(muestra)\n",
    "plt.show"
   ]
  }
 ],
 "metadata": {
  "kernelspec": {
   "display_name": "base",
   "language": "python",
   "name": "python3"
  },
  "language_info": {
   "codemirror_mode": {
    "name": "ipython",
    "version": 3
   },
   "file_extension": ".py",
   "mimetype": "text/x-python",
   "name": "python",
   "nbconvert_exporter": "python",
   "pygments_lexer": "ipython3",
   "version": "3.12.2"
  }
 },
 "nbformat": 4,
 "nbformat_minor": 2
}
