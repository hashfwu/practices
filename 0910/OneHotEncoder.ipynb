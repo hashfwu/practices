{
 "cells": [
  {
   "cell_type": "markdown",
   "metadata": {},
   "source": [
    "# OneHotEncoder\n",
    "La entrada de este transformador debe ser una matriz de números enteros o cadenas que denoten los valores que toman las características categóricas (discretas). Las características se codifican utilizando un esquema de codificación one-hot (también conocido como \"one-of-K\" o \"dummy\"). Esto crea una columna binaria para cada categoría y devuelve una matriz dispersa o una matriz densa (según el sparse_outputparámetro)."
   ]
  },
  {
   "cell_type": "markdown",
   "metadata": {},
   "source": [
    "Lo primero que hacemos es importar la librería de OneHotEncoder de `sklearn`."
   ]
  },
  {
   "cell_type": "code",
   "execution_count": 21,
   "metadata": {},
   "outputs": [],
   "source": [
    "from sklearn.preprocessing import OneHotEncoder"
   ]
  },
  {
   "cell_type": "markdown",
   "metadata": {},
   "source": [
    "Después creamos una instancia de `OneHotEncoder` que tenga como parámetro `handle_unknow='ignore'` para que ignore las categorías desconocidas durante el entrenamiento."
   ]
  },
  {
   "cell_type": "code",
   "execution_count": 22,
   "metadata": {},
   "outputs": [],
   "source": [
    "enc = OneHotEncoder(handle_unknown='ignore')"
   ]
  },
  {
   "cell_type": "markdown",
   "metadata": {},
   "source": [
    "Se importa un conjunto de datos. Este conjunto tiene varias instancias, cada intancias tiene dos características: El género y el grupo."
   ]
  },
  {
   "cell_type": "code",
   "execution_count": 23,
   "metadata": {},
   "outputs": [
    {
     "name": "stdout",
     "output_type": "stream",
     "text": [
      "[['Male', 1], ['Female', 3], ['Male', 3], ['Female', 1], ['Female', 2], ['Male', 2], ['Female', 3], ['Male', 1], ['Female', 2], ['Male', 3], ['Female', 1], ['Female', 2], ['Male', 3], ['Female', 3], ['Male', 2], ['Female', 1], ['Male', 3], ['Female', 2], ['Male', 2], ['Female', 1], ['Female', 3], ['Male', 3], ['Male', 2], ['Female', 1]]\n"
     ]
    }
   ],
   "source": [
    "import pandas as pd\n",
    "\n",
    "df = pd.read_csv('dataset1.csv', header=None)\n",
    "X = df.values.tolist()\n",
    "X = [[row[0], int(row[1])] for row in X]\n",
    "\n",
    "print(X)\n"
   ]
  },
  {
   "cell_type": "markdown",
   "metadata": {},
   "source": [
    "Se ajusta el codificador (`encoder`) a los datos de entrenamiento. Así el codificador (`encoder` que es una instancia de `OneHotEncoder`) aprende de las categorías únicas. Podemos ver estas categorías con el atributo `.categories_`."
   ]
  },
  {
   "cell_type": "code",
   "execution_count": 24,
   "metadata": {},
   "outputs": [
    {
     "data": {
      "text/plain": [
       "[array(['Female', 'Male'], dtype=object), array([1, 2, 3], dtype=object)]"
      ]
     },
     "execution_count": 24,
     "metadata": {},
     "output_type": "execute_result"
    }
   ],
   "source": [
    "enc.fit(X)\n",
    "enc.categories_"
   ]
  },
  {
   "cell_type": "markdown",
   "metadata": {},
   "source": [
    "Se utiliza el método `transform()` para codificar un nuevo conjunto de datos utilizando el codificador entrenado. En este caso, se codifican dos filas nuevas: `['Female', 1]` y `['Male', 4]`. El resultado se convierte en un array utilizando `toarray()`."
   ]
  },
  {
   "cell_type": "code",
   "execution_count": 25,
   "metadata": {},
   "outputs": [
    {
     "data": {
      "text/plain": [
       "array([[1., 0., 1., 0., 0.],\n",
       "       [0., 1., 0., 0., 0.]])"
      ]
     },
     "execution_count": 25,
     "metadata": {},
     "output_type": "execute_result"
    }
   ],
   "source": [
    "enc.transform([['Female', 1], ['Male', 4]]).toarray()"
   ]
  },
  {
   "cell_type": "markdown",
   "metadata": {},
   "source": [
    "Se utiliza el método `get_feature_names_out()` para obtener los nombres de las características generadas después de la codificación. Se pasa una lista con los nombres de las características originales (`['gender', 'group']`) como argumento. Esto devuelve una lista con los nombres de las características codificadas."
   ]
  },
  {
   "cell_type": "code",
   "execution_count": 26,
   "metadata": {},
   "outputs": [
    {
     "data": {
      "text/plain": [
       "array(['gender_Female', 'gender_Male', 'group_1', 'group_2', 'group_3'],\n",
       "      dtype=object)"
      ]
     },
     "execution_count": 26,
     "metadata": {},
     "output_type": "execute_result"
    }
   ],
   "source": [
    "enc.get_feature_names_out(['gender', 'group'])"
   ]
  }
 ],
 "metadata": {
  "kernelspec": {
   "display_name": "base",
   "language": "python",
   "name": "python3"
  },
  "language_info": {
   "codemirror_mode": {
    "name": "ipython",
    "version": 3
   },
   "file_extension": ".py",
   "mimetype": "text/x-python",
   "name": "python",
   "nbconvert_exporter": "python",
   "pygments_lexer": "ipython3",
   "version": "3.12.2"
  }
 },
 "nbformat": 4,
 "nbformat_minor": 2
}
